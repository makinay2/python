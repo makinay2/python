{
 "cells": [
  {
   "cell_type": "markdown",
   "id": "8fb5dd99",
   "metadata": {},
   "source": [
    "## Sql"
   ]
  },
  {
   "cell_type": "markdown",
   "id": "791021fd",
   "metadata": {},
   "source": [
    "## Connect to mysql Server"
   ]
  },
  {
   "cell_type": "code",
   "execution_count": 30,
   "id": "65c0f353",
   "metadata": {},
   "outputs": [
    {
     "name": "stdout",
     "output_type": "stream",
     "text": [
      "<mysql.connector.connection_cext.CMySQLConnection object at 0x0000024E4CAE4B50>\n"
     ]
    }
   ],
   "source": [
    "import mysql.connector\n",
    "\n",
    "## connet to the server\n",
    "mydb = mysql.connector.connect(\n",
    "  host=\"localhost\",\n",
    "  user=\"root\",\n",
    "  password=\"12805shaker\"\n",
    ")\n",
    "\n",
    "print(mydb) \n",
    "\n",
    "### connet to cursor\n",
    "cursor = mydb.cursor()"
   ]
  },
  {
   "cell_type": "code",
   "execution_count": 18,
   "id": "e56f4355",
   "metadata": {},
   "outputs": [],
   "source": [
    "## Delet database\n",
    "cursor.execute(\"DROP DATABASE ch2\")"
   ]
  },
  {
   "cell_type": "code",
   "execution_count": 19,
   "id": "f8dec56b",
   "metadata": {},
   "outputs": [
    {
     "name": "stdout",
     "output_type": "stream",
     "text": [
      "('bank',)\n",
      "('ch2',)\n",
      "('information_schema',)\n",
      "('mysql',)\n",
      "('performance_schema',)\n",
      "('sys',)\n"
     ]
    }
   ],
   "source": [
    "## Create a database\n",
    "cursor.execute(\"CREATE DATABASE IF NOT EXISTS ch2\")\n",
    "cursor.execute(\"SHOW DATABASES\")\n",
    "for x in cursor:\n",
    "    print(x) \n",
    "\n"
   ]
  },
  {
   "cell_type": "code",
   "execution_count": 20,
   "id": "d34566ef",
   "metadata": {},
   "outputs": [],
   "source": [
    "## Use a database\n",
    "cursor.execute(\"USE ch2\")\n"
   ]
  },
  {
   "cell_type": "markdown",
   "id": "fe6d5618",
   "metadata": {},
   "source": [
    "# Chapter-2: Creating and Populating a Database"
   ]
  },
  {
   "cell_type": "code",
   "execution_count": 5,
   "id": "dbaa2023",
   "metadata": {},
   "outputs": [
    {
     "name": "stdout",
     "output_type": "stream",
     "text": [
      "('person_id', b'smallint unsigned', 'NO', 'PRI', None, 'auto_increment')\n",
      "('fname', b'varchar(20)', 'YES', '', None, '')\n",
      "('lname', b'varchar(20)', 'YES', '', None, '')\n",
      "('gender', b\"enum('M','F')\", 'YES', '', None, '')\n",
      "('birth_date', b'date', 'YES', '', None, '')\n",
      "('street', b'varchar(30)', 'YES', '', None, '')\n",
      "('city', b'varchar(20)', 'YES', '', None, '')\n",
      "('state', b'varchar(20)', 'YES', '', None, '')\n",
      "('country', b'varchar(20)', 'YES', '', None, '')\n",
      "('postal_code', b'varchar(20)', 'YES', '', None, '')\n"
     ]
    }
   ],
   "source": [
    "# ## Create a table\n",
    "\n",
    "cursor.execute(\"\"\"\n",
    "  CREATE TABLE IF NOT EXISTS person(\n",
    "    person_id SMALLINT UNSIGNED,\n",
    "    fname VARCHAR(20),\n",
    "    lname VARCHAR(20),\n",
    "    gender ENUM(\"M\", \"F\"), ## make sure that value is form this two\n",
    "    birth_date DATE,\n",
    "    street VARCHAR(30),\n",
    "    city VARCHAR(20),\n",
    "    state VARCHAR(20),\n",
    "    country VARCHAR(20),\n",
    "    postal_code VARCHAR(20),\n",
    "    CONSTRAINT pk_person PRIMARY KEY (person_id)          \n",
    "    )\n",
    "\"\"\")\n",
    "\n",
    "\n",
    "# ## Change the persn id to auto increment\n",
    "cursor.execute(\"ALTER TABLE person MODIFY person_id SMALLINT UNSIGNED AUTO_INCREMENT\")\n",
    "\n",
    "cursor.execute(\"\"\"\n",
    "  CREATE TABLE IF NOT EXISTS food(\n",
    "    person_id SMALLINT UNSIGNED,\n",
    "    food VARCHAR(20),  \n",
    "    CONSTRAINT pk_food PRIMARY KEY (person_id, food),\n",
    "    CONSTRAINT fk_food FOREIGN KEY (person_id) \n",
    "      REFERENCES person (person_id)  \n",
    "    )\n",
    "\"\"\")\n",
    "## Check table\n",
    "cursor.execute(\"DESC person\")\n",
    "\n",
    "for table in cursor:\n",
    "    print(table)\n",
    "\n"
   ]
  },
  {
   "cell_type": "code",
   "execution_count": 6,
   "id": "4403d21d",
   "metadata": {},
   "outputs": [],
   "source": [
    "## Insert data\n",
    "cursor.execute(\"\"\"\n",
    "  INSERT INTO person (person_id, fname, lname, gender, birth_date)\n",
    "  VALUES (null, \"William\", \"Turner\", \"M\", \"1972-05-27\")\n",
    "\"\"\")\n",
    "\n",
    "cursor.execute(\"\"\"\n",
    "  INSERT INTO food (person_id, food)\n",
    "  VALUES (1, \"pizza\")\n",
    "\"\"\")\n",
    "cursor.execute(\"\"\"\n",
    "  INSERT INTO food (person_id, food)\n",
    "  VALUES (1, \"nachos\")\n",
    "\"\"\")\n",
    "cursor.execute(\"\"\"\n",
    "  INSERT INTO food (person_id, food)\n",
    "  VALUES (1, \"cookies\")\n",
    "\"\"\")\n",
    "\n"
   ]
  },
  {
   "cell_type": "code",
   "execution_count": 7,
   "id": "313a3182",
   "metadata": {},
   "outputs": [
    {
     "name": "stdout",
     "output_type": "stream",
     "text": [
      "(1, 'William', 'Turner', datetime.date(1972, 5, 27))\n"
     ]
    }
   ],
   "source": [
    "# Select form table with where\n",
    "cursor.execute(\"\"\"SELECT person_id, fname, lname, birth_date \n",
    "                  FROM person \n",
    "                  WHERE person_id = 1\n",
    "              \"\"\")\n",
    "\n",
    "rows = cursor.fetchall()\n",
    "for row in rows:\n",
    "    print(row)\n",
    "    \n",
    "\n",
    "    \n"
   ]
  },
  {
   "cell_type": "code",
   "execution_count": 8,
   "id": "02f17120",
   "metadata": {},
   "outputs": [
    {
     "name": "stdout",
     "output_type": "stream",
     "text": [
      "('cookies',)\n",
      "('nachos',)\n",
      "('pizza',)\n"
     ]
    }
   ],
   "source": [
    "# select with where and order\n",
    "cursor.execute(\"\"\"SELECT food \n",
    "                  FROM food\n",
    "                  WHERE person_id = 1\n",
    "                  ORDER BY food\n",
    "                  \"\"\")    \n",
    "rows = cursor.fetchall()\n",
    "for row in rows:\n",
    "    print(row)"
   ]
  },
  {
   "cell_type": "code",
   "execution_count": 13,
   "id": "99d3b8db",
   "metadata": {},
   "outputs": [
    {
     "name": "stdout",
     "output_type": "stream",
     "text": [
      "(1, 'William', 'Turner', 'M', datetime.date(1980, 12, 21), '1225 Tremont St', 'Boston', 'MA', 'USA', '02138')\n"
     ]
    }
   ],
   "source": [
    "#Upadet Data\n",
    "cursor.execute(\"\"\"\n",
    "    UPDATE person\n",
    "    SET street = \"1225 Tremont St\",\n",
    "        city = \"Boston\",\n",
    "        state = \"MA\",\n",
    "        country = \"USA\",\n",
    "        postal_code = \"02138\"\n",
    "    WHERE person_id = 1\n",
    "\"\"\")\n",
    "cursor.execute(\"\"\"SELECT * FROM person\"\"\")\n",
    "\n",
    "  \n",
    "rows = cursor.fetchall()\n",
    "for row in rows:\n",
    "    print(row)"
   ]
  },
  {
   "cell_type": "code",
   "execution_count": 16,
   "id": "91fddc8c",
   "metadata": {},
   "outputs": [
    {
     "name": "stdout",
     "output_type": "stream",
     "text": [
      "(1, 'William', 'Turner', 'M', datetime.date(1980, 12, 21), '1225 Tremont St', 'Boston', 'MA', 'USA', '02138')\n"
     ]
    }
   ],
   "source": [
    "### Update date by specifying the format\n",
    "cursor.execute(\"\"\"\n",
    "    UPDATE person\n",
    "    SET birth_date = str_to_date(\"DEC-21-1980\", \"%b-%d-%Y\")\n",
    "    WHERE person_id = 1\n",
    "\n",
    "\"\"\")\n",
    "\n",
    "cursor.execute(\"\"\"SELECT * FROM person\"\"\")\n",
    "\n",
    "rows = cursor.fetchall()\n",
    "for row in rows:\n",
    "    print(row)"
   ]
  },
  {
   "cell_type": "code",
   "execution_count": 17,
   "id": "4fc8b4f3",
   "metadata": {},
   "outputs": [
    {
     "name": "stdout",
     "output_type": "stream",
     "text": [
      "(1, 'cookies')\n",
      "(1, 'nachos')\n"
     ]
    }
   ],
   "source": [
    "# Delete row\n",
    "cursor.execute(\"\"\"\n",
    "    DELETE FROM food\n",
    "    WHERE food = \"pizza\"\n",
    "\"\"\")\n",
    "cursor.execute(\"\"\"SELECT * FROM food\"\"\")\n",
    "\n",
    "rows = cursor.fetchall()\n",
    "for row in rows:\n",
    "    print(row)\n",
    "        "
   ]
  },
  {
   "cell_type": "code",
   "execution_count": 18,
   "id": "f2f1ad21",
   "metadata": {},
   "outputs": [],
   "source": [
    "# Delete table\n",
    "cursor.execute(\"\"\"\n",
    "    DROP TABLE food\n",
    "    \"\"\")\n",
    "\n",
    "cursor.execute(\"\"\"\n",
    "    DROP TABLE person\n",
    "    \"\"\")"
   ]
  },
  {
   "cell_type": "code",
   "execution_count": 6,
   "id": "9d0c58b7",
   "metadata": {
    "code_folding": []
   },
   "outputs": [],
   "source": [
    "## Create a database\n",
    "cursor.execute(\"SHOW TABLES\")\n",
    "for x in cursor:\n",
    "    print(x) \n"
   ]
  },
  {
   "cell_type": "markdown",
   "id": "c999dce3",
   "metadata": {},
   "source": [
    "# Chapter-3: Querry Primer"
   ]
  },
  {
   "cell_type": "markdown",
   "id": "05767eb2",
   "metadata": {},
   "source": [
    "# querry clauses:\n",
    "\n",
    "- SELECT\n",
    "- FROM\n",
    "- WHERE\n",
    "- GROUP BY\n",
    "- HAVING\n",
    "- ORDERED BY\n"
   ]
  },
  {
   "cell_type": "code",
   "execution_count": 97,
   "id": "6353c33b",
   "metadata": {},
   "outputs": [
    {
     "name": "stdout",
     "output_type": "stream",
     "text": [
      "<mysql.connector.connection_cext.CMySQLConnection object at 0x0000024E4CC48BD0>\n"
     ]
    }
   ],
   "source": [
    "import mysql.connector\n",
    "\n",
    "## connet to the server\n",
    "mydb = mysql.connector.connect(\n",
    "  host=\"localhost\",\n",
    "  user=\"root\",\n",
    "  password=\"12805shaker\"\n",
    ")\n",
    "\n",
    "print(mydb) \n",
    "\n",
    "### connet to cursor\n",
    "cursor = mydb.cursor()\n",
    "\n"
   ]
  },
  {
   "cell_type": "code",
   "execution_count": 98,
   "id": "f7e992a4",
   "metadata": {},
   "outputs": [
    {
     "name": "stdout",
     "output_type": "stream",
     "text": [
      "('account',)\n",
      "('branch',)\n",
      "('business',)\n",
      "('customer',)\n",
      "('department',)\n",
      "('employee',)\n",
      "('employee_vw',)\n",
      "('individual',)\n",
      "('officer',)\n",
      "('product',)\n",
      "('product_type',)\n",
      "('transaction',)\n"
     ]
    }
   ],
   "source": [
    "cursor.execute(\"USE bank\")\n",
    "cursor.execute(\"SHOW TABLES\")\n",
    "for x in cursor:\n",
    "    print(x) "
   ]
  },
  {
   "cell_type": "markdown",
   "id": "a40e66f6",
   "metadata": {},
   "source": [
    "# Select\n",
    "\n",
    "- it's last clause evaluated\n",
    "\n",
    "- It could include numbers, strings, expressions, build-in functions, user defined functions"
   ]
  },
  {
   "cell_type": "code",
   "execution_count": 80,
   "id": "77aa792f",
   "metadata": {},
   "outputs": [
    {
     "name": "stdout",
     "output_type": "stream",
     "text": [
      "(1, 'ACTIVE', Decimal('3.14'), 'SMITH')\n",
      "(2, 'ACTIVE', Decimal('6.28'), 'BARKER')\n",
      "(3, 'ACTIVE', Decimal('9.42'), 'TYLER')\n",
      "(4, 'ACTIVE', Decimal('12.56'), 'HAWTHORNE')\n",
      "(5, 'ACTIVE', Decimal('15.70'), 'GOODING')\n",
      "(6, 'ACTIVE', Decimal('18.84'), 'FLEMING')\n",
      "(7, 'ACTIVE', Decimal('21.98'), 'TUCKER')\n",
      "(8, 'ACTIVE', Decimal('25.12'), 'PARKER')\n",
      "(9, 'ACTIVE', Decimal('28.26'), 'GROSSMAN')\n",
      "(10, 'ACTIVE', Decimal('31.40'), 'ROBERTS')\n",
      "(11, 'ACTIVE', Decimal('34.54'), 'ZIEGLER')\n",
      "(12, 'ACTIVE', Decimal('37.68'), 'JAMESON')\n",
      "(13, 'ACTIVE', Decimal('40.82'), 'BLAKE')\n",
      "(14, 'ACTIVE', Decimal('43.96'), 'MASON')\n",
      "(15, 'ACTIVE', Decimal('47.10'), 'PORTMAN')\n",
      "(16, 'ACTIVE', Decimal('50.24'), 'MARKHAM')\n",
      "(17, 'ACTIVE', Decimal('53.38'), 'FOWLER')\n",
      "(18, 'ACTIVE', Decimal('56.52'), 'TULMAN')\n"
     ]
    }
   ],
   "source": [
    "cursor.execute(\"\"\" \n",
    "    SELECT emp_id,\n",
    "        \"ACTIVE\",\n",
    "        emp_id * 3.14,\n",
    "        UPPER(lname)\n",
    "        FROM employee            \n",
    "\"\"\")\n",
    "for x in cursor:\n",
    "    print(x) \n"
   ]
  },
  {
   "cell_type": "markdown",
   "id": "2e1f909b",
   "metadata": {},
   "source": [
    "- if select only include build in function or evaluate simple expression, we can skip FROM"
   ]
  },
  {
   "cell_type": "code",
   "execution_count": 81,
   "id": "73dccd9b",
   "metadata": {},
   "outputs": [
    {
     "name": "stdout",
     "output_type": "stream",
     "text": [
      "('8.0.32', 'root@localhost', 'bank')\n"
     ]
    }
   ],
   "source": [
    "cursor.execute(\"\"\" \n",
    "    SELECT VERSION(),\n",
    "    USER(),\n",
    "    DATABASE()\n",
    "\"\"\")\n",
    "for x in cursor:\n",
    "    print(x) "
   ]
  },
  {
   "cell_type": "markdown",
   "id": "7f2f82d7",
   "metadata": {},
   "source": [
    "- Rename columns using aliases(with or without AS)"
   ]
  },
  {
   "cell_type": "code",
   "execution_count": 82,
   "id": "0b24d8ea",
   "metadata": {},
   "outputs": [
    {
     "name": "stdout",
     "output_type": "stream",
     "text": [
      "[('emp_id', 2, None, None, None, None, 0, 49699, 63), ('status', 253, None, None, None, None, 0, 1, 255), ('empid_x_pi', 246, None, None, None, None, 0, 32897, 63), ('last_name_upper', 253, None, None, None, None, 1, 0, 255)]\n"
     ]
    }
   ],
   "source": [
    "cursor.execute(\"\"\" \n",
    "    SELECT emp_id,\n",
    "        \"ACTIVE\" status,\n",
    "        emp_id * 3.14 empid_x_pi,\n",
    "        UPPER(lname) last_name_upper\n",
    "        FROM employee            \n",
    "\"\"\")\n",
    "columns = cursor.description\n",
    "print(columns)\n",
    "\n"
   ]
  },
  {
   "cell_type": "code",
   "execution_count": 53,
   "id": "e37c7ce5",
   "metadata": {},
   "outputs": [
    {
     "name": "stdout",
     "output_type": "stream",
     "text": [
      "[('emp_id', 2, None, None, None, None, 0, 49699, 63), ('status', 253, None, None, None, None, 0, 1, 255), ('empid_x_pi', 246, None, None, None, None, 0, 32897, 63), ('last_name_upper', 253, None, None, None, None, 1, 0, 255)]\n"
     ]
    }
   ],
   "source": [
    "cursor.execute(\"\"\" \n",
    "    SELECT emp_id,\n",
    "        \"ACTIVE\" AS status,\n",
    "        emp_id * 3.14 AS empid_x_pi,\n",
    "        UPPER(lname) AS last_name_upper\n",
    "        FROM employee            \n",
    "\"\"\")\n",
    "columns = cursor.description\n",
    "print(columns)"
   ]
  },
  {
   "cell_type": "markdown",
   "id": "248b5be4",
   "metadata": {},
   "source": [
    "- Rmove duplicate using distinct"
   ]
  },
  {
   "cell_type": "code",
   "execution_count": 86,
   "id": "5420337d",
   "metadata": {},
   "outputs": [
    {
     "name": "stdout",
     "output_type": "stream",
     "text": [
      "[('cust_id', 3, None, None, None, None, 0, 53289, 63)]\n"
     ]
    }
   ],
   "source": [
    "cursor.execute(\"\"\" \n",
    "    SELECT DISTINCT cust_id\n",
    "        FROM account            \n",
    "\"\"\")\n",
    "columns = cursor.description\n",
    "print(columns)"
   ]
  },
  {
   "cell_type": "markdown",
   "id": "ce6c7d0b",
   "metadata": {},
   "source": [
    "- From clause could include different tables:\n",
    "\n",
    "1-permanent table\n",
    "\n",
    "2- temporary table created by subquerries\n",
    "\n",
    "3- virtual tables created by views\n",
    "\n",
    "4- linked tables by join\n",
    "    \n",
    "    "
   ]
  },
  {
   "cell_type": "code",
   "execution_count": 90,
   "id": "cd98d96c",
   "metadata": {},
   "outputs": [
    {
     "name": "stdout",
     "output_type": "stream",
     "text": [
      "[('emp_id', 2, None, None, None, None, 0, 49699, 63), ('fname', 253, None, None, None, None, 0, 4097, 255), ('lname', 253, None, None, None, None, 0, 4097, 255)]\n"
     ]
    }
   ],
   "source": [
    "## subquerry\n",
    "cursor.execute(\"\"\" \n",
    "    SELECT e.emp_id, e.fname, e.lname\n",
    "    FROM (SELECT emp_id, fname, lname, start_date, title\n",
    "          FROM employee) e            \n",
    "\"\"\")\n",
    "columns = cursor.description\n",
    "print(columns)\n"
   ]
  },
  {
   "cell_type": "code",
   "execution_count": 95,
   "id": "c43cdd8a",
   "metadata": {},
   "outputs": [
    {
     "name": "stdout",
     "output_type": "stream",
     "text": [
      "[('emp_id', 2, None, None, None, None, 0, 49699, 63), ('start_year', 8, None, None, None, None, 1, 32896, 63)]\n"
     ]
    }
   ],
   "source": [
    "## virtual tables \n",
    "### first create a view\n",
    "cursor.execute(\"\"\" \n",
    "    CREATE VIEW employee_vw AS\n",
    "    SELECT emp_id, fname, lname, YEAR(start_date) start_year\n",
    "    FROM employee\n",
    "\"\"\")\n",
    "\n",
    "## quesry from view\n",
    "cursor.execute(\"\"\" \n",
    "    SELECT emp_id, start_year\n",
    "    FROM employee_vw\n",
    "\"\"\")\n",
    "\n",
    "columns = cursor.description\n",
    "print(columns)\n"
   ]
  },
  {
   "cell_type": "code",
   "execution_count": 99,
   "id": "fc9852b9",
   "metadata": {},
   "outputs": [
    {
     "name": "stdout",
     "output_type": "stream",
     "text": [
      "[('emp_id', 2, None, None, None, None, 0, 49699, 63), ('fname', 253, None, None, None, None, 0, 4097, 255), ('lname', 253, None, None, None, None, 0, 4097, 255), ('dept_name', 253, None, None, None, None, 0, 4097, 255)]\n"
     ]
    }
   ],
   "source": [
    "## table links--> to reference tables we can use whole name or alias\n",
    "\n",
    "cursor.execute(\"\"\" \n",
    "    SELECT employee.emp_id, employee.fname, employee.lname, department.name dept_name\n",
    "    FROM employee INNER JOIN department\n",
    "    ON employee.dept_id = department.dept_id\n",
    "\"\"\")\n",
    "\n",
    "columns = cursor.description\n",
    "print(columns)\n",
    "\n",
    "\n",
    "\n"
   ]
  },
  {
   "cell_type": "code",
   "execution_count": null,
   "id": "d5cd142a",
   "metadata": {},
   "outputs": [],
   "source": []
  }
 ],
 "metadata": {
  "hide_input": false,
  "kernelspec": {
   "display_name": "Python 3 (ipykernel)",
   "language": "python",
   "name": "python3"
  },
  "language_info": {
   "codemirror_mode": {
    "name": "ipython",
    "version": 3
   },
   "file_extension": ".py",
   "mimetype": "text/x-python",
   "name": "python",
   "nbconvert_exporter": "python",
   "pygments_lexer": "ipython3",
   "version": "3.11.3"
  }
 },
 "nbformat": 4,
 "nbformat_minor": 5
}
